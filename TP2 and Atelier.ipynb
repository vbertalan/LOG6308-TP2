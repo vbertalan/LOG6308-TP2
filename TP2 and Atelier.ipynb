{
 "cells": [
  {
   "cell_type": "markdown",
   "id": "f47aa9bf",
   "metadata": {},
   "source": [
    "### TP2 (Q1), and Atelier MRR\n",
    "\n",
    "#### Vithor Bertalan, Matricule 2135362"
   ]
  },
  {
   "cell_type": "code",
   "execution_count": 1,
   "id": "1a4c69cc",
   "metadata": {},
   "outputs": [],
   "source": [
    "import pandas as pd\n",
    "import scipy.io\n",
    "import igraph as ig\n",
    "import numpy as np\n",
    "from statistics import mean\n",
    "import time\n",
    "\n",
    "## Loads matrix and CSVs\n",
    "m = scipy.io.mmread('tp-matrix.dgt')\n",
    "articles = pd.read_csv(\"12-articles.csv\", sep=\",\")\n",
    "matrix_names = pd.read_csv(\"tp-matrix-names.csv\", sep=\" \")\n",
    "\n",
    "## Transpose the matrix for the PageRank calculation\n",
    "mat = m.transpose()\n",
    "\n",
    "## Calculates adjacencies - takes a VERY LONG time\n",
    "#g = ig.Graph.Adjacency(mat)\n",
    "## If this is the first execution, saves the graph to a local file (uncomment line below, and comment last line of this cell)\n",
    "#g.write_graphml(\"file.gra\")\n",
    "## If the file is already written locally, reads it from this file, to speed executions\n",
    "g = ig.Graph.Read_GraphML(\"file.gra\", index=0)"
   ]
  },
  {
   "cell_type": "markdown",
   "id": "9d928e15",
   "metadata": {},
   "source": [
    "### Q1, Part 1 - Calculate 10 recommendations of each of the articles in the 12-articles subset"
   ]
  },
  {
   "cell_type": "code",
   "execution_count": 3,
   "id": "0639fd19",
   "metadata": {},
   "outputs": [
    {
     "name": "stdout",
     "output_type": "stream",
     "text": [
      "For paper number 15089, number 1 in the 12-articles set, the top-10 recommendations by PageRank are:\n",
      "[22252, 3269, 3277, 16362, 18172, 8132, 9137, 13231, 6568, 6106]\n",
      "For paper number 35353, number 2 in the 12-articles set, the top-10 recommendations by PageRank are:\n",
      "[338, 12764, 282, 5907, 12769, 25724, 2004, 12467, 333, 3187]\n",
      "For paper number 50496, number 3 in the 12-articles set, the top-10 recommendations by PageRank are:\n",
      "[21335, 30836, 13710]\n",
      "For paper number 50497, number 4 in the 12-articles set, the top-10 recommendations by PageRank are:\n",
      "[97, 107, 281]\n",
      "For paper number 11636, number 5 in the 12-articles set, the top-10 recommendations by PageRank are:\n",
      "[1642, 6095, 1368, 4941, 33, 2859, 2083, 1323, 2271, 6204]\n",
      "For paper number 12593, number 6 in the 12-articles set, the top-10 recommendations by PageRank are:\n",
      "[17, 373, 2040, 9665, 3043, 4259, 8312, 3221, 372, 5197]\n",
      "For paper number 36565, number 7 in the 12-articles set, the top-10 recommendations by PageRank are:\n",
      "[8355, 696, 811, 939, 483, 334, 703, 8044, 3411, 7413]\n",
      "For paper number 12215, number 8 in the 12-articles set, the top-10 recommendations by PageRank are:\n",
      "[11776, 4975, 12217, 6716, 12218, 12216, 9523, 7113, 6714, 3583]\n",
      "For paper number 18645, number 9 in the 12-articles set, the top-10 recommendations by PageRank are:\n",
      "[6731, 18724, 8563, 69, 3348, 876, 8927, 7307, 18885, 10844]\n",
      "For paper number 1594, number 10 in the 12-articles set, the top-10 recommendations by PageRank are:\n",
      "[8425, 18760, 9310, 8021, 13384, 19336, 13054, 11993, 9319, 9315]\n",
      "For paper number 35304, number 11 in the 12-articles set, the top-10 recommendations by PageRank are:\n",
      "[19649, 3729, 19812, 6138, 6119, 15177, 23327, 37796, 8179, 6126]\n",
      "For paper number 18539, number 12 in the 12-articles set, the top-10 recommendations by PageRank are:\n",
      "[1627, 8420, 18540, 2143, 18011, 18554, 18548, 9396, 18541, 5613]\n"
     ]
    }
   ],
   "source": [
    "## Calculates PageRank for the graph, using iGraph's standard method\n",
    "pr = g.pagerank()\n",
    "\n",
    "## Gets the indexes of the 12-articles set in the overall matrix\n",
    "def gets_indexes():\n",
    "    pos = []\n",
    "    for i in articles[\"id\"]:\n",
    "        count = 0\n",
    "        for j in matrix_names[\"x\"]:\n",
    "            if (i==j):\n",
    "                pos.append(count)\n",
    "            count+=1\n",
    "    return pos\n",
    "\n",
    "## Classifies the recommendations of a given index, based on their PageRanks\n",
    "def gets_recommendations(i):\n",
    "    rows, cols = m.tocsr()[i].nonzero()\n",
    "    ranks = np.empty([0, 2])\n",
    "    for j in cols:\n",
    "        ranks = np.vstack([ranks,[j,pr[j]]])\n",
    "    return ranks[ranks[:, 1].argsort()[::-1]]\n",
    "\n",
    "## Gets all the recommendations of the 12 articles set\n",
    "def gets_articles_recommendations():\n",
    "    pos = gets_indexes()\n",
    "    count = 1\n",
    "    for i in pos:\n",
    "        recs = gets_recommendations(i)\n",
    "        ## Adds one variable i, because index 0 is equivalent to line 1 in the dataset\n",
    "        print(\"For paper number {}, number {} in the 12-articles set, the top-10 recommendations by PageRank are:\".format(i+1,count))\n",
    "        vector = recs[:,0][:10].astype(int)\n",
    "        ## Adds one to the recommendations, because index 0 is equivalent to line 1 in the dataset\n",
    "        print([x+1 for x in vector])\n",
    "        count+=1      \n",
    "        \n",
    "gets_articles_recommendations()"
   ]
  },
  {
   "cell_type": "markdown",
   "id": "a1ec1cb4",
   "metadata": {},
   "source": [
    "### Q1, Part 2 - Calculate the MRR for the references of each of the 12 articles."
   ]
  },
  {
   "cell_type": "code",
   "execution_count": 4,
   "id": "939870cb",
   "metadata": {},
   "outputs": [
    {
     "name": "stdout",
     "output_type": "stream",
     "text": [
      "For paper number 15089, number 1 in the 12-articles set, the MRR is 3.4244840276777825e-05\n",
      "For paper number 35353, number 2 in the 12-articles set, the MRR is 7.448341720585364e-05\n",
      "For paper number 50496, number 3 in the 12-articles set, the MRR is 2.7973042562303706e-05\n",
      "For paper number 50497, number 4 in the 12-articles set, the MRR is 6.425012369398826e-05\n",
      "For paper number 11636, number 5 in the 12-articles set, the MRR is 4.283362564269419e-05\n",
      "For paper number 12593, number 6 in the 12-articles set, the MRR is 0.00023706096911343852\n",
      "For paper number 36565, number 7 in the 12-articles set, the MRR is 0.00011203084005298705\n",
      "For paper number 12215, number 8 in the 12-articles set, the MRR is 2.592960811804186e-05\n",
      "For paper number 18645, number 9 in the 12-articles set, the MRR is 0.0001025079188714051\n",
      "For paper number 1594, number 10 in the 12-articles set, the MRR is 3.4371001611510045e-05\n",
      "For paper number 35304, number 11 in the 12-articles set, the MRR is 0.00014033574625291597\n",
      "For paper number 18539, number 12 in the 12-articles set, the MRR is 0.00012130954921849727\n",
      "The MRR for the 12 papers was calculated in 22.05690026283264 seconds\n"
     ]
    }
   ],
   "source": [
    "## Creates ordered set of pageranks - the best pagerank will be first\n",
    "def order_ranks():\n",
    "    ranks = np.empty([0, 2])\n",
    "    for i in range(len(pr)):\n",
    "        ranks = np.vstack([ranks,[i,pr[i]]])\n",
    "    return ranks[ranks[:, 1].argsort()[::-1]]\n",
    "\n",
    "## Given the ordered set, finds the rank of a given index\n",
    "def find_rank_index(i, ranks):\n",
    "    count = 1\n",
    "    for j in ranks[:,0]:\n",
    "        if (i==j):\n",
    "            return count\n",
    "        count+=1\n",
    "\n",
    "## Calculates mean reciprocal rank for each of the connections of a given index\n",
    "def calculate_mrr(i):\n",
    "    ## Orders the ranks\n",
    "    ranks = order_ranks()\n",
    "    rows, cols = m.tocsr()[i].nonzero()\n",
    "    rrs = []\n",
    "    \n",
    "    ## For each of the references...\n",
    "    for j in cols:\n",
    "        ## Gets the rank of that index in the ordered list...\n",
    "        index = find_rank_index(j,ranks)\n",
    "        ## Calculates the reciprocal rank (1/rank)\n",
    "        rrs.append(1/index)\n",
    "    ## And returns the mean of those values\n",
    "    return(mean(rrs))\n",
    "\n",
    "## Calculates MRR for each of the 12 articles\n",
    "def calculate_mrr_articles():\n",
    "    pos = gets_indexes()\n",
    "    count = 1\n",
    "    for i in pos:\n",
    "        mrr = calculate_mrr(i)\n",
    "        ## Adds one to variable i, because index 0 is equivalent to line 1 in the dataset\n",
    "        print(\"For paper number {}, number {} in the 12-articles set, the MRR is {}\".format(i+1,count,mrr))\n",
    "        count+=1\n",
    "\n",
    "start_time = time.time()\n",
    "calculate_mrr_articles()\n",
    "print(\"The MRR for the 12 papers was calculated in {} seconds\".format((time.time() - start_time)))"
   ]
  },
  {
   "cell_type": "markdown",
   "id": "708ef78f",
   "metadata": {},
   "source": [
    "### Atelier MRR - Calculate an alternative to MRR. In this case, we will use Mean Average Precision (MAP) and a custom metric."
   ]
  },
  {
   "cell_type": "code",
   "execution_count": 5,
   "id": "0bce647c",
   "metadata": {
    "scrolled": true
   },
   "outputs": [
    {
     "name": "stdout",
     "output_type": "stream",
     "text": [
      "For paper number 15089, number 1 in the 12-articles set, the MAP is 0.00018632370708764005\n",
      "For paper number 35353, number 2 in the 12-articles set, the MAP is 0.00041236465494748456\n",
      "For paper number 50496, number 3 in the 12-articles set, the MAP is 5.2378925833792124e-05\n",
      "For paper number 50497, number 4 in the 12-articles set, the MAP is 9.641444363561471e-05\n",
      "For paper number 11636, number 5 in the 12-articles set, the MAP is 0.00025412746894945906\n",
      "For paper number 12593, number 6 in the 12-articles set, the MAP is 0.001303818573485607\n",
      "For paper number 36565, number 7 in the 12-articles set, the MAP is 0.00032490886268498134\n",
      "For paper number 12215, number 8 in the 12-articles set, the MAP is 0.0001859600374129505\n",
      "For paper number 18645, number 9 in the 12-articles set, the MAP is 0.0007830707476872126\n",
      "For paper number 1594, number 10 in the 12-articles set, the MAP is 0.0001891485895923592\n",
      "For paper number 35304, number 11 in the 12-articles set, the MAP is 0.0004981745192381682\n",
      "For paper number 18539, number 12 in the 12-articles set, the MAP is 0.0009172703224530698\n",
      "The MAP for the 12 papers was calculated in 12.48408818244934 seconds\n"
     ]
    }
   ],
   "source": [
    "## Calculates the average precision for the connections of a given index\n",
    "## Source of idea: https://stats.stackexchange.com/questions/127041/mean-average-precision-vs-mean-reciprocal-rank\n",
    "## Second source: http://sdsawtelle.github.io/blog/output/mean-average-precision-MAP-for-recommender-systems.html\n",
    "\n",
    "def calculate_map(i):\n",
    "    ## First, we order the papers paged on their PageRanks (the first has the higher PageRank)\n",
    "    ranks = order_ranks()\n",
    "    ## Then, we ge ordered list of recommendations (see method above)\n",
    "    recs = gets_recommendations(i)\n",
    "    aps = []\n",
    "    precision_count = 1\n",
    "    \n",
    "    ## For each of the references...\n",
    "    for j in recs[:,0]:\n",
    "        ## Gets the rank of that index in the ordered list...\n",
    "        index = find_rank_index(j,ranks)\n",
    "        ## Calculates the precision (number of recommendations already given divided by index of current recommendation)\n",
    "        aps.append(precision_count/index)        \n",
    "        precision_count+=1\n",
    "\n",
    "    ## Returns the multiplication of (1 divided by the number of recommendations) * sum of average precisions\n",
    "    return(1/len(recs) * sum(aps))\n",
    "\n",
    "## Calculates MAP for each of the 12 articles\n",
    "def calculate_map_articles():\n",
    "    pos = gets_indexes()\n",
    "    count = 1\n",
    "    for i in pos:\n",
    "        map_ = calculate_map(i)\n",
    "        ## Adds one to variable i, because index 0 is equivalent to line 1 in the dataset\n",
    "        print(\"For paper number {}, number {} in the 12-articles set, the MAP is {}\".format(i+1,count,map_))\n",
    "        count+=1\n",
    "        \n",
    "start_time = time.time()\n",
    "calculate_map_articles()\n",
    "print(\"The MAP for the 12 papers was calculated in {} seconds\".format((time.time() - start_time)))"
   ]
  },
  {
   "cell_type": "markdown",
   "id": "ee395875",
   "metadata": {},
   "source": [
    "### As we can see, MAP has similar results to MRR (e.g., article number 12593, number 6 in the articles set, is the best in both metrics), but the calculation time takes half the time of MRR - 12 seconds against 22 seconds. \n",
    "\n",
    "### In my point of view, if article 12593 is the top article, this means it has more influent citations than the other papers. \n",
    "\n",
    "### Let's confirm this information, by taking the first two reference in the ordered recommendation set of paper 12593, which are papers 17 and 373, as we can see in the beginning of the notebook.  "
   ]
  },
  {
   "cell_type": "code",
   "execution_count": 8,
   "id": "d05b7637",
   "metadata": {},
   "outputs": [
    {
     "name": "stdout",
     "output_type": "stream",
     "text": [
      "300\n",
      "1031\n"
     ]
    }
   ],
   "source": [
    "#For paper number 12593, number 6 in the 12-articles set, the top-10 recommendations by PageRank are:\n",
    "#[17, 373, 2040, 9665, 3043, 4259, 8312, 3221, 372, 5197]\n",
    "\n",
    "## Creates ordered set of pageranks - the best pagerank will be first\n",
    "def order_ranks():\n",
    "    ranks = np.empty([0, 2])\n",
    "    for i in range(len(pr)):\n",
    "        ranks = np.vstack([ranks,[i,pr[i]]])\n",
    "    return ranks[ranks[:, 1].argsort()[::-1]]\n",
    "\n",
    "## Given the ordered set, finds the rank of a given index\n",
    "def find_rank_index(i, ranks):\n",
    "    count = 1\n",
    "    for j in ranks[:,0]:\n",
    "        if (i==j):\n",
    "            return count\n",
    "        count+=1\n",
    "        \n",
    "ranks = order_ranks()\n",
    "print(find_rank_index(16,ranks))\n",
    "print(find_rank_index(372,ranks))"
   ]
  },
  {
   "cell_type": "markdown",
   "id": "d822c7cf",
   "metadata": {},
   "source": [
    "### As we can see, paper 12593 is cited by, among others, the 300th and 1031th top papers by PageRank, making it very influential. Let's compare those results with the top 2 references of paper 50496, number 3 in the 12-articles set, the worst paper by MAP metrics:"
   ]
  },
  {
   "cell_type": "code",
   "execution_count": 32,
   "id": "45774bcd",
   "metadata": {},
   "outputs": [
    {
     "name": "stdout",
     "output_type": "stream",
     "text": [
      "31666\n",
      "31785\n"
     ]
    }
   ],
   "source": [
    "#For paper number 50496, number 3 in the 12-articles set, the top-10 recommendations by PageRank are:\n",
    "#[21335, 30836, 13710]\n",
    "\n",
    "print(find_rank_index(21334,ranks))\n",
    "print(find_rank_index(30835,ranks))"
   ]
  },
  {
   "cell_type": "markdown",
   "id": "c673da19",
   "metadata": {},
   "source": [
    "### Besides being cited by only 3 papers, the top-2 references of 50496 are quite down below the ordered set of recommendations: it is cited by the 31666th and 31785th papers. Therefore, we can see the MAP is a very good and fast metric to order the most important papers of our query."
   ]
  },
  {
   "cell_type": "markdown",
   "id": "7dd6f0e8",
   "metadata": {},
   "source": [
    "### Now, let's create a custom metric: we are going to multiply 1/index by the pagerank of the recommendation, for each recommendation, and sum the result. This is done to penalize papers with few recommendations, even if it has recommendations with high pageranks. \n"
   ]
  },
  {
   "cell_type": "markdown",
   "id": "1f98f9a3",
   "metadata": {},
   "source": [
    "### The formula for our new metric is: metric = Σ 1/index(n) * PageRank(n), with Σ going from 1 to n, with n being the full subset of articles that cite that paper."
   ]
  },
  {
   "cell_type": "code",
   "execution_count": 7,
   "id": "a08ee5f8",
   "metadata": {},
   "outputs": [
    {
     "name": "stdout",
     "output_type": "stream",
     "text": [
      "For paper number 15089, number 1 in the 12-articles set, the MRR is 3.4244840276777825e-05\n",
      "For paper number 35353, number 2 in the 12-articles set, the MRR is 7.448341720585364e-05\n",
      "For paper number 50496, number 3 in the 12-articles set, the MRR is 2.7973042562303706e-05\n",
      "For paper number 50497, number 4 in the 12-articles set, the MRR is 6.425012369398826e-05\n",
      "For paper number 11636, number 5 in the 12-articles set, the MRR is 4.283362564269419e-05\n",
      "For paper number 12593, number 6 in the 12-articles set, the MRR is 0.00023706096911343852\n",
      "For paper number 36565, number 7 in the 12-articles set, the MRR is 0.00011203084005298705\n",
      "For paper number 12215, number 8 in the 12-articles set, the MRR is 2.592960811804186e-05\n",
      "For paper number 18645, number 9 in the 12-articles set, the MRR is 0.0001025079188714051\n",
      "For paper number 1594, number 10 in the 12-articles set, the MRR is 3.4371001611510045e-05\n",
      "For paper number 35304, number 11 in the 12-articles set, the MRR is 0.00014033574625291597\n",
      "For paper number 18539, number 12 in the 12-articles set, the MRR is 0.00012130954921849727\n",
      "The metric for the 12 papers was calculated in 22.640989065170288 seconds\n"
     ]
    }
   ],
   "source": [
    "## Calculates the custom metric for a given subset\n",
    "\n",
    "## Orders ranks by PageRank\n",
    "def order_ranks():\n",
    "    ranks = np.empty([0, 2])\n",
    "    for i in range(len(pr)):\n",
    "        ranks = np.vstack([ranks,[i,pr[i]]])\n",
    "    return ranks[ranks[:, 1].argsort()[::-1]]\n",
    "\n",
    "## Given the ordered set, finds the rank of a given index\n",
    "def find_rank_index(i, ranks):\n",
    "    count = 1\n",
    "    for j in ranks[:,0]:\n",
    "        if (i==j):\n",
    "            return count\n",
    "        count+=1\n",
    "\n",
    "## Calculates new metric for each of the connections of a given index\n",
    "def calculate_new_metric(i):\n",
    "    ## Orders the ranks\n",
    "    ranks = order_ranks()\n",
    "    rows, cols = m.tocsr()[i].nonzero()\n",
    "    rrs = []\n",
    "    \n",
    "    ## For each of the references...\n",
    "    for j in cols:\n",
    "        ## Gets the rank of that index in the ordered list...\n",
    "        index = find_rank_index(j,ranks)\n",
    "        ## Calculates the new metric rank (1/rank)\n",
    "        rrs.append(1/index * pr(j))\n",
    "    ## And returns the sum of those values multiplied by \n",
    "    return(sum(rrs))\n",
    "\n",
    "## Calculates new metric for each of the 12 articles\n",
    "def calculate_new_metric_articles():\n",
    "    pos = gets_indexes()\n",
    "    count = 1\n",
    "    for i in pos:\n",
    "        mrr = calculate_new_metric(i)\n",
    "        ## Adds one to variable i, because index 0 is equivalent to line 1 in the dataset\n",
    "        print(\"For paper number {}, number {} in the 12-articles set, the new metric is {}\".format(i+1,count,mrr))\n",
    "        count+=1\n",
    "\n",
    "start_time = time.time()\n",
    "calculate_mrr_articles()\n",
    "print(\"The metric for the 12 papers was calculated in {} seconds\".format((time.time() - start_time)))"
   ]
  },
  {
   "cell_type": "markdown",
   "id": "95373b37",
   "metadata": {},
   "source": [
    "### Using this new metric, a paper with just one high-ranked PageRank citation would not be necessarily well placed, being surpassed by a paper with two not as well high-ranked PageRank citations. In this way, we penalize papers with not many recommendations. "
   ]
  },
  {
   "cell_type": "markdown",
   "id": "69c34a16",
   "metadata": {},
   "source": [
    "### Q3 - Get 10 recommendations by cosine similarity"
   ]
  },
  {
   "cell_type": "code",
   "execution_count": 51,
   "id": "bcb471fa",
   "metadata": {},
   "outputs": [
    {
     "name": "stdout",
     "output_type": "stream",
     "text": [
      "[20926 22705  3610  6352 20409 18939  9719  8809 11045 31747]\n"
     ]
    }
   ],
   "source": [
    "from sklearn.metrics.pairwise import cosine_similarity\n",
    "\n",
    "'index = the index of the paper to calculate the similarities'\n",
    "'matrix = the adjacency matrix'\n",
    "'n = the number of top similarities to return'\n",
    "def get_similarities(index, matrix, n):\n",
    "    \n",
    "    ## Calculates cosine similarity matrix and the values of the given index\n",
    "    cos_mat = cosine_similarity(matrix, dense_output=False)\n",
    "    idx = cos_mat[index]\n",
    "    \n",
    "    ## Gets the index's values as a COO matrix\n",
    "    idx = idx.tocoo()    \n",
    "    ranks = np.empty([0, 2])\n",
    "    \n",
    "    ## Stacks the values in a numpy array to order and get the N highest values\n",
    "    for _,row,sim in zip(idx.row, idx.col, idx.data):\n",
    "        ranks = np.vstack([ranks,[row,sim]])    \n",
    "    ranks = ranks[ranks[:, 1].argsort()[::-1]]\n",
    "    \n",
    "    ## Gets the n+1 values, since the first value will always be the index itself (1.0 cosine similarity)\n",
    "    vector = ranks[:,0][:n+1].astype(int)\n",
    "    \n",
    "    ## For the elements with no similarities calculated (e.g., index 15089), returns null\n",
    "    if (len(vector) == 0):\n",
    "        print(\"No cosine similarities detected.\")\n",
    "        return\n",
    "    \n",
    "    ## Removes the first value\n",
    "    vector = np.delete(vector, 0)\n",
    "\n",
    "    print(vector)\n",
    "    #print([x for x in vector])    \n",
    "    \n",
    "get_similarities(15087,m,10)"
   ]
  },
  {
   "cell_type": "markdown",
   "id": "d870e253",
   "metadata": {},
   "source": [
    "### Q2 - Creates thematic matrices"
   ]
  },
  {
   "cell_type": "code",
   "execution_count": 22,
   "id": "2142e0d9",
   "metadata": {},
   "outputs": [],
   "source": [
    "'Gets a matrix for each of the relations, sums the results, and converts it back to an adjacency matrix'\n",
    "def create_thematic_matrix():\n",
    "    \n",
    "    ## Relation (1)\n",
    "    rel1 = m\n",
    "\n",
    "    ## Relation (-1)\n",
    "    rel2 = m.transpose()\n",
    "\n",
    "    ## Relation (1,1), and converts all values greater than 1 to 1\n",
    "    rel3 = m * m\n",
    "    rel3[rel3 > 1] = 1\n",
    "\n",
    "    ## Relation (1,-1), and converts all values greater than 1 to 1\n",
    "    rel4 = m * m.transpose()\n",
    "    rel4[rel4 > 1] = 1\n",
    "\n",
    "    ## Relation (-1, 1), and converts all values greater than 1 to 1\n",
    "    rel5 = m.transpose() * m\n",
    "    rel5[rel5 > 1] = 1\n",
    "\n",
    "    ## Relation (1,-1,1), and converts all values greater than 1 to 1\n",
    "    rel6 = m * m.transpose() * m\n",
    "    rel6[rel6 > 1] = 1\n",
    "\n",
    "    ## Relation (-1,1,1), and converts all values greater than 1 to 1\n",
    "    rel7 = m.transpose() * m * m\n",
    "    rel7[rel7 > 1] = 1\n",
    "    \n",
    "    ## Sums all values to a single matrix, and converts all values greater than 1 to 1\n",
    "    them_mat = rel1 + rel2 + rel3 + rel4 + rel5 + rel6 + rel7\n",
    "    them_mat[them_mat > 1] = 1\n",
    "    \n",
    "    return (them_mat)"
   ]
  },
  {
   "cell_type": "code",
   "execution_count": 12,
   "id": "75c29381",
   "metadata": {},
   "outputs": [],
   "source": [
    "scipy.sparse.save_npz('thematic_matrix.npz', them_mat)\n",
    "##them_mat = scipy.sparse.load_npz('thematic_matrix.npz')"
   ]
  },
  {
   "cell_type": "code",
   "execution_count": 32,
   "id": "e04b0861",
   "metadata": {},
   "outputs": [
    {
     "ename": "MemoryError",
     "evalue": "Unable to allocate 2.27 GiB for an array with shape (304576816,) and data type int64",
     "output_type": "error",
     "traceback": [
      "\u001b[1;31m---------------------------------------------------------------------------\u001b[0m",
      "\u001b[1;31mMemoryError\u001b[0m                               Traceback (most recent call last)",
      "\u001b[1;32m~\\AppData\\Local\\Temp/ipykernel_137792/577516032.py\u001b[0m in \u001b[0;36m<module>\u001b[1;34m\u001b[0m\n\u001b[0;32m     26\u001b[0m \u001b[1;31m#mat = create_article_matrix(them_mat,15088)\u001b[0m\u001b[1;33m\u001b[0m\u001b[1;33m\u001b[0m\u001b[1;33m\u001b[0m\u001b[0m\n\u001b[0;32m     27\u001b[0m \u001b[1;31m#mat = using_tocoo(them_mat,15088)\u001b[0m\u001b[1;33m\u001b[0m\u001b[1;33m\u001b[0m\u001b[1;33m\u001b[0m\u001b[0m\n\u001b[1;32m---> 28\u001b[1;33m \u001b[0mmat\u001b[0m \u001b[1;33m=\u001b[0m \u001b[0musing_tocoo_izip\u001b[0m\u001b[1;33m(\u001b[0m\u001b[0mthem_mat\u001b[0m\u001b[1;33m,\u001b[0m\u001b[1;36m15088\u001b[0m\u001b[1;33m)\u001b[0m\u001b[1;33m\u001b[0m\u001b[1;33m\u001b[0m\u001b[0m\n\u001b[0m",
      "\u001b[1;32m~\\AppData\\Local\\Temp/ipykernel_137792/577516032.py\u001b[0m in \u001b[0;36musing_tocoo_izip\u001b[1;34m(m, index)\u001b[0m\n\u001b[0;32m     18\u001b[0m \u001b[1;33m\u001b[0m\u001b[0m\n\u001b[0;32m     19\u001b[0m \u001b[1;32mdef\u001b[0m \u001b[0musing_tocoo_izip\u001b[0m\u001b[1;33m(\u001b[0m\u001b[0mm\u001b[0m\u001b[1;33m,\u001b[0m \u001b[0mindex\u001b[0m\u001b[1;33m)\u001b[0m\u001b[1;33m:\u001b[0m\u001b[1;33m\u001b[0m\u001b[1;33m\u001b[0m\u001b[0m\n\u001b[1;32m---> 20\u001b[1;33m     \u001b[0mcoo_mat\u001b[0m \u001b[1;33m=\u001b[0m \u001b[0mm\u001b[0m\u001b[1;33m.\u001b[0m\u001b[0mtocoo\u001b[0m\u001b[1;33m(\u001b[0m\u001b[1;33m)\u001b[0m\u001b[1;33m\u001b[0m\u001b[1;33m\u001b[0m\u001b[0m\n\u001b[0m\u001b[0;32m     21\u001b[0m     \u001b[1;32mfor\u001b[0m \u001b[0mrow\u001b[0m\u001b[1;33m,\u001b[0m\u001b[0mcol\u001b[0m\u001b[1;33m,\u001b[0m\u001b[0m_\u001b[0m \u001b[1;32min\u001b[0m \u001b[0mitertools\u001b[0m\u001b[1;33m.\u001b[0m\u001b[0mizip\u001b[0m\u001b[1;33m(\u001b[0m\u001b[0mcoo_mat\u001b[0m\u001b[1;33m.\u001b[0m\u001b[0mrow\u001b[0m\u001b[1;33m,\u001b[0m \u001b[0mcoo_mat\u001b[0m\u001b[1;33m.\u001b[0m\u001b[0mcol\u001b[0m\u001b[1;33m,\u001b[0m \u001b[0mcoo_mat\u001b[0m\u001b[1;33m.\u001b[0m\u001b[0mdata\u001b[0m\u001b[1;33m)\u001b[0m\u001b[1;33m:\u001b[0m\u001b[1;33m\u001b[0m\u001b[1;33m\u001b[0m\u001b[0m\n\u001b[0;32m     22\u001b[0m         \u001b[1;32mif\u001b[0m \u001b[1;33m(\u001b[0m\u001b[0mrow\u001b[0m \u001b[1;33m!=\u001b[0m \u001b[0mindex\u001b[0m \u001b[1;32mand\u001b[0m \u001b[0mcol\u001b[0m \u001b[1;33m!=\u001b[0m \u001b[0mindex\u001b[0m\u001b[1;33m)\u001b[0m\u001b[1;33m:\u001b[0m\u001b[1;33m\u001b[0m\u001b[1;33m\u001b[0m\u001b[0m\n",
      "\u001b[1;32m~\\anaconda3\\lib\\site-packages\\scipy\\sparse\\compressed.py\u001b[0m in \u001b[0;36mtocoo\u001b[1;34m(self, copy)\u001b[0m\n\u001b[0;32m   1029\u001b[0m \u001b[1;33m\u001b[0m\u001b[0m\n\u001b[0;32m   1030\u001b[0m         \u001b[1;32mfrom\u001b[0m \u001b[1;33m.\u001b[0m\u001b[0mcoo\u001b[0m \u001b[1;32mimport\u001b[0m \u001b[0mcoo_matrix\u001b[0m\u001b[1;33m\u001b[0m\u001b[1;33m\u001b[0m\u001b[0m\n\u001b[1;32m-> 1031\u001b[1;33m         return coo_matrix((self.data, (row, col)), self.shape, copy=copy,\n\u001b[0m\u001b[0;32m   1032\u001b[0m                           dtype=self.dtype)\n\u001b[0;32m   1033\u001b[0m \u001b[1;33m\u001b[0m\u001b[0m\n",
      "\u001b[1;32m~\\anaconda3\\lib\\site-packages\\scipy\\sparse\\coo.py\u001b[0m in \u001b[0;36m__init__\u001b[1;34m(self, arg1, shape, dtype, copy)\u001b[0m\n\u001b[0;32m    158\u001b[0m                 \u001b[0mself\u001b[0m\u001b[1;33m.\u001b[0m\u001b[0mrow\u001b[0m \u001b[1;33m=\u001b[0m \u001b[0mnp\u001b[0m\u001b[1;33m.\u001b[0m\u001b[0marray\u001b[0m\u001b[1;33m(\u001b[0m\u001b[0mrow\u001b[0m\u001b[1;33m,\u001b[0m \u001b[0mcopy\u001b[0m\u001b[1;33m=\u001b[0m\u001b[0mcopy\u001b[0m\u001b[1;33m,\u001b[0m \u001b[0mdtype\u001b[0m\u001b[1;33m=\u001b[0m\u001b[0midx_dtype\u001b[0m\u001b[1;33m)\u001b[0m\u001b[1;33m\u001b[0m\u001b[1;33m\u001b[0m\u001b[0m\n\u001b[0;32m    159\u001b[0m                 \u001b[0mself\u001b[0m\u001b[1;33m.\u001b[0m\u001b[0mcol\u001b[0m \u001b[1;33m=\u001b[0m \u001b[0mnp\u001b[0m\u001b[1;33m.\u001b[0m\u001b[0marray\u001b[0m\u001b[1;33m(\u001b[0m\u001b[0mcol\u001b[0m\u001b[1;33m,\u001b[0m \u001b[0mcopy\u001b[0m\u001b[1;33m=\u001b[0m\u001b[0mcopy\u001b[0m\u001b[1;33m,\u001b[0m \u001b[0mdtype\u001b[0m\u001b[1;33m=\u001b[0m\u001b[0midx_dtype\u001b[0m\u001b[1;33m)\u001b[0m\u001b[1;33m\u001b[0m\u001b[1;33m\u001b[0m\u001b[0m\n\u001b[1;32m--> 160\u001b[1;33m                 \u001b[0mself\u001b[0m\u001b[1;33m.\u001b[0m\u001b[0mdata\u001b[0m \u001b[1;33m=\u001b[0m \u001b[0mgetdata\u001b[0m\u001b[1;33m(\u001b[0m\u001b[0mobj\u001b[0m\u001b[1;33m,\u001b[0m \u001b[0mcopy\u001b[0m\u001b[1;33m=\u001b[0m\u001b[0mcopy\u001b[0m\u001b[1;33m,\u001b[0m \u001b[0mdtype\u001b[0m\u001b[1;33m=\u001b[0m\u001b[0mdtype\u001b[0m\u001b[1;33m)\u001b[0m\u001b[1;33m\u001b[0m\u001b[1;33m\u001b[0m\u001b[0m\n\u001b[0m\u001b[0;32m    161\u001b[0m                 \u001b[0mself\u001b[0m\u001b[1;33m.\u001b[0m\u001b[0mhas_canonical_format\u001b[0m \u001b[1;33m=\u001b[0m \u001b[1;32mFalse\u001b[0m\u001b[1;33m\u001b[0m\u001b[1;33m\u001b[0m\u001b[0m\n\u001b[0;32m    162\u001b[0m         \u001b[1;32melse\u001b[0m\u001b[1;33m:\u001b[0m\u001b[1;33m\u001b[0m\u001b[1;33m\u001b[0m\u001b[0m\n",
      "\u001b[1;32m~\\anaconda3\\lib\\site-packages\\scipy\\sparse\\sputils.py\u001b[0m in \u001b[0;36mgetdata\u001b[1;34m(obj, dtype, copy)\u001b[0m\n\u001b[0;32m    122\u001b[0m     \u001b[0mthat\u001b[0m \u001b[0mwill\u001b[0m \u001b[0mgenerate\u001b[0m \u001b[0ma\u001b[0m \u001b[0mwarning\u001b[0m \u001b[1;32mif\u001b[0m \u001b[0mthe\u001b[0m \u001b[0mresult\u001b[0m \u001b[1;32mis\u001b[0m \u001b[0man\u001b[0m \u001b[0mobject\u001b[0m \u001b[0marray\u001b[0m\u001b[1;33m.\u001b[0m\u001b[1;33m\u001b[0m\u001b[1;33m\u001b[0m\u001b[0m\n\u001b[0;32m    123\u001b[0m     \"\"\"\n\u001b[1;32m--> 124\u001b[1;33m     \u001b[0mdata\u001b[0m \u001b[1;33m=\u001b[0m \u001b[0mnp\u001b[0m\u001b[1;33m.\u001b[0m\u001b[0marray\u001b[0m\u001b[1;33m(\u001b[0m\u001b[0mobj\u001b[0m\u001b[1;33m,\u001b[0m \u001b[0mdtype\u001b[0m\u001b[1;33m=\u001b[0m\u001b[0mdtype\u001b[0m\u001b[1;33m,\u001b[0m \u001b[0mcopy\u001b[0m\u001b[1;33m=\u001b[0m\u001b[0mcopy\u001b[0m\u001b[1;33m)\u001b[0m\u001b[1;33m\u001b[0m\u001b[1;33m\u001b[0m\u001b[0m\n\u001b[0m\u001b[0;32m    125\u001b[0m     \u001b[1;31m# Defer to getdtype for checking that the dtype is OK.\u001b[0m\u001b[1;33m\u001b[0m\u001b[1;33m\u001b[0m\u001b[1;33m\u001b[0m\u001b[0m\n\u001b[0;32m    126\u001b[0m     \u001b[1;31m# This is called for the validation only; we don't need the return value.\u001b[0m\u001b[1;33m\u001b[0m\u001b[1;33m\u001b[0m\u001b[1;33m\u001b[0m\u001b[0m\n",
      "\u001b[1;31mMemoryError\u001b[0m: Unable to allocate 2.27 GiB for an array with shape (304576816,) and data type int64"
     ]
    }
   ],
   "source": [
    "'Creates a matrix considering only the relations towards a given index - all other values will be zeroes'\n",
    "'m = thematic matrix created above'\n",
    "'index = the index of the paper'\n",
    "\n",
    "def create_article_matrix(m, index):\n",
    "    rows, cols = m.nonzero()\n",
    "    for row,col in zip(rows,cols):\n",
    "        if (row != index and col != index):\n",
    "            m[row,col] = 0\n",
    "    return (m)\n",
    "\n",
    "def using_tocoo(m, index):\n",
    "    coo_mat = m.tocoo()    \n",
    "    for row,col,data in zip(coo_mat.row, coo_mat.col, coo_mat.data):\n",
    "        if (row != index and col != index):\n",
    "            m[row,col] = 0\n",
    "    return (m) \n",
    "\n",
    "def using_tocoo_izip(m, index):\n",
    "    coo_mat = m.tocoo()   \n",
    "    for row,col,_ in itertools.izip(coo_mat.row, coo_mat.col, coo_mat.data):\n",
    "        if (row != index and col != index):\n",
    "            m[row,col] = 0\n",
    "    return (m) \n",
    "        \n",
    "#mat = create_article_matrix(them_mat,15088)\n",
    "#mat = using_tocoo(them_mat,15088)\n",
    "mat = using_tocoo_izip(them_mat,15088)"
   ]
  }
 ],
 "metadata": {
  "kernelspec": {
   "display_name": "Python 3 (ipykernel)",
   "language": "python",
   "name": "python3"
  },
  "language_info": {
   "codemirror_mode": {
    "name": "ipython",
    "version": 3
   },
   "file_extension": ".py",
   "mimetype": "text/x-python",
   "name": "python",
   "nbconvert_exporter": "python",
   "pygments_lexer": "ipython3",
   "version": "3.8.12"
  }
 },
 "nbformat": 4,
 "nbformat_minor": 5
}
